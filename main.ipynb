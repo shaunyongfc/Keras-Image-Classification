{
 "cells": [
  {
   "cell_type": "code",
   "execution_count": 1,
   "metadata": {},
   "outputs": [],
   "source": [
    "import numpy as np\n",
    "import pandas as pd\n",
    "from keras.utils import to_categorical\n",
    "from parameters import *\n",
    "import image_loader\n",
    "import keras_model\n",
    "\n",
    "CATEGORIES = ['buildings', 'forest', 'glacier', 'mountain', 'sea', 'street']"
   ]
  },
  {
   "cell_type": "code",
   "execution_count": 2,
   "metadata": {},
   "outputs": [],
   "source": [
    "class ImageClass():\n",
    "    def __init__(self):\n",
    "        \"\"\"\n",
    "        Main function that makes use of written functions in other files.\n",
    "        \"\"\"\n",
    "        X_train, y_train = image_loader.get_images_train()\n",
    "        X_val, y_val = image_loader.get_images_test()\n",
    "        y_train = to_categorical(y_train, num_classes=6)\n",
    "        y_val = to_categorical(y_val, num_classes=6)\n",
    "        self.model = keras_model.create_model()\n",
    "        self.history = self.model.fit(X_train, y_train, validation_data=(X_val, y_val), epochs=EPOCHS, batch_size=BS)\n",
    "    def image_predict(self, number):\n",
    "        \"\"\"\n",
    "        Predict a category from a numbered file in the pred folder.\n",
    "        \"\"\"\n",
    "        X_pred = image_loader.get_pred_image(number)\n",
    "        y_pred = int(np.argmax(self.model.predict(X_pred), axis=-1))\n",
    "        return CATEGORIES[y_pred]"
   ]
  },
  {
   "cell_type": "code",
   "execution_count": 3,
   "metadata": {},
   "outputs": [
    {
     "name": "stdout",
     "output_type": "stream",
     "text": [
      "Epoch 1/10\n",
      "439/439 [==============================] - 127s 290ms/step - loss: 1.0997 - accuracy: 0.6091 - val_loss: 1.2299 - val_accuracy: 0.5160\n",
      "Epoch 2/10\n",
      "439/439 [==============================] - 117s 266ms/step - loss: 0.7572 - accuracy: 0.7254 - val_loss: 2.2573 - val_accuracy: 0.3747\n",
      "Epoch 3/10\n",
      "439/439 [==============================] - 108s 246ms/step - loss: 0.6534 - accuracy: 0.7653 - val_loss: 0.7000 - val_accuracy: 0.7347\n",
      "Epoch 4/10\n",
      "439/439 [==============================] - 107s 245ms/step - loss: 0.5005 - accuracy: 0.8233 - val_loss: 0.9895 - val_accuracy: 0.6507\n",
      "Epoch 5/10\n",
      "439/439 [==============================] - 106s 242ms/step - loss: 0.4176 - accuracy: 0.8566 - val_loss: 0.6553 - val_accuracy: 0.7787\n",
      "Epoch 6/10\n",
      "439/439 [==============================] - 107s 244ms/step - loss: 0.3502 - accuracy: 0.8790 - val_loss: 0.7695 - val_accuracy: 0.7430\n",
      "Epoch 7/10\n",
      "439/439 [==============================] - 107s 244ms/step - loss: 0.2918 - accuracy: 0.8975 - val_loss: 0.7380 - val_accuracy: 0.7580\n",
      "Epoch 8/10\n",
      "439/439 [==============================] - 107s 243ms/step - loss: 0.2570 - accuracy: 0.9111 - val_loss: 0.7329 - val_accuracy: 0.7717\n",
      "Epoch 9/10\n",
      "439/439 [==============================] - 108s 245ms/step - loss: 0.2665 - accuracy: 0.9071 - val_loss: 0.8933 - val_accuracy: 0.7360\n",
      "Epoch 10/10\n",
      "439/439 [==============================] - 109s 249ms/step - loss: 0.2210 - accuracy: 0.9250 - val_loss: 0.8236 - val_accuracy: 0.7653\n"
     ]
    }
   ],
   "source": [
    "i_c = ImageClass()"
   ]
  },
  {
   "cell_type": "code",
   "execution_count": 4,
   "metadata": {},
   "outputs": [
    {
     "name": "stdout",
     "output_type": "stream",
     "text": [
      "WARNING:tensorflow:From /opt/anaconda3/lib/python3.7/site-packages/tensorflow/python/training/tracking/tracking.py:111: Model.state_updates (from tensorflow.python.keras.engine.training) is deprecated and will be removed in a future version.\n",
      "Instructions for updating:\n",
      "This property should not be used in TensorFlow 2.0, as updates are applied automatically.\n",
      "WARNING:tensorflow:From /opt/anaconda3/lib/python3.7/site-packages/tensorflow/python/training/tracking/tracking.py:111: Layer.updates (from tensorflow.python.keras.engine.base_layer) is deprecated and will be removed in a future version.\n",
      "Instructions for updating:\n",
      "This property should not be used in TensorFlow 2.0, as updates are applied automatically.\n",
      "INFO:tensorflow:Assets written to: my_model/assets\n"
     ]
    }
   ],
   "source": [
    "i_c.model.save('my_model')"
   ]
  }
 ],
 "metadata": {
  "kernelspec": {
   "display_name": "Python 3",
   "language": "python",
   "name": "python3"
  },
  "language_info": {
   "codemirror_mode": {
    "name": "ipython",
    "version": 3
   },
   "file_extension": ".py",
   "mimetype": "text/x-python",
   "name": "python",
   "nbconvert_exporter": "python",
   "pygments_lexer": "ipython3",
   "version": "3.7.6"
  }
 },
 "nbformat": 4,
 "nbformat_minor": 4
}
