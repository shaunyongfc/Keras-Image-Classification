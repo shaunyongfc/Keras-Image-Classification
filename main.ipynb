{
 "cells": [
  {
   "cell_type": "code",
   "execution_count": 3,
   "metadata": {},
   "outputs": [],
   "source": [
    "import numpy as np\n",
    "import pandas as pd\n",
    "from tensorflow.keras.utils import to_categorical\n",
    "from parameters import *\n",
    "import image_loader\n",
    "import keras_model\n",
    "\n",
    "# Define category names\n",
    "CATEGORIES = ['buildings', 'forest', 'glacier', 'mountain', 'sea', 'street']"
   ]
  },
  {
   "cell_type": "code",
   "execution_count": 4,
   "metadata": {},
   "outputs": [],
   "source": [
    "class ImageClass():\n",
    "    def __init__(self):\n",
    "        \"\"\"\n",
    "        Main function that makes use of written functions in other files.\n",
    "        \"\"\"\n",
    "        X_train, y_train = image_loader.get_images_train()\n",
    "        X_val, y_val = image_loader.get_images_test()\n",
    "        y_train = to_categorical(y_train, num_classes=6)\n",
    "        y_val = to_categorical(y_val, num_classes=6)\n",
    "        self.model = keras_model.create_model()\n",
    "        self.history = self.model.fit(\n",
    "            X_train, y_train, validation_data=(X_val, y_val),\n",
    "            epochs=EPOCHS, batch_size=BS)\n",
    "        \n",
    "    def image_predict(self, number):\n",
    "        \"\"\"\n",
    "        Predict a category from a numbered file in the pred folder.\n",
    "        \"\"\"\n",
    "        X_pred = image_loader.get_pred_image(number)\n",
    "        y_pred = int(np.argmax(self.model.predict(X_pred), axis=-1))\n",
    "        return CATEGORIES[y_pred]"
   ]
  },
  {
   "cell_type": "code",
   "execution_count": 5,
   "metadata": {},
   "outputs": [
    {
     "name": "stderr",
     "output_type": "stream",
     "text": [
      "/opt/anaconda3/lib/python3.7/site-packages/tensorflow/python/keras/optimizer_v2/optimizer_v2.py:375: UserWarning: The `lr` argument is deprecated, use `learning_rate` instead.\n",
      "  \"The `lr` argument is deprecated, use `learning_rate` instead.\")\n"
     ]
    },
    {
     "name": "stdout",
     "output_type": "stream",
     "text": [
      "Epoch 1/10\n",
      "439/439 [==============================] - 184s 413ms/step - loss: 1.0852 - accuracy: 0.6138 - val_loss: 0.9241 - val_accuracy: 0.6870\n",
      "Epoch 2/10\n",
      "439/439 [==============================] - 165s 375ms/step - loss: 0.7293 - accuracy: 0.7388 - val_loss: 1.6231 - val_accuracy: 0.6130\n",
      "Epoch 3/10\n",
      "439/439 [==============================] - 166s 378ms/step - loss: 0.5905 - accuracy: 0.7920 - val_loss: 0.7096 - val_accuracy: 0.7367\n",
      "Epoch 4/10\n",
      "439/439 [==============================] - 161s 368ms/step - loss: 0.5070 - accuracy: 0.8202 - val_loss: 0.8339 - val_accuracy: 0.7307\n",
      "Epoch 5/10\n",
      "439/439 [==============================] - 170s 386ms/step - loss: 0.4139 - accuracy: 0.8557 - val_loss: 0.6750 - val_accuracy: 0.7700\n",
      "Epoch 6/10\n",
      "439/439 [==============================] - 158s 360ms/step - loss: 0.3391 - accuracy: 0.8820 - val_loss: 1.2809 - val_accuracy: 0.6447\n",
      "Epoch 7/10\n",
      "439/439 [==============================] - 153s 349ms/step - loss: 0.2895 - accuracy: 0.8972 - val_loss: 1.0557 - val_accuracy: 0.7057\n",
      "Epoch 8/10\n",
      "439/439 [==============================] - 167s 381ms/step - loss: 0.2478 - accuracy: 0.9141 - val_loss: 0.8919 - val_accuracy: 0.7540\n",
      "Epoch 9/10\n",
      "439/439 [==============================] - 157s 357ms/step - loss: 0.2148 - accuracy: 0.9267 - val_loss: 0.9495 - val_accuracy: 0.7557\n",
      "Epoch 10/10\n",
      "439/439 [==============================] - 160s 364ms/step - loss: 0.1731 - accuracy: 0.9429 - val_loss: 0.9020 - val_accuracy: 0.7667\n"
     ]
    }
   ],
   "source": [
    "i_c = ImageClass()"
   ]
  },
  {
   "cell_type": "code",
   "execution_count": 6,
   "metadata": {},
   "outputs": [
    {
     "name": "stdout",
     "output_type": "stream",
     "text": [
      "INFO:tensorflow:Assets written to: my_model/assets\n"
     ]
    }
   ],
   "source": [
    "i_c.model.save('my_model')"
   ]
  }
 ],
 "metadata": {
  "kernelspec": {
   "display_name": "Python 3",
   "language": "python",
   "name": "python3"
  },
  "language_info": {
   "codemirror_mode": {
    "name": "ipython",
    "version": 3
   },
   "file_extension": ".py",
   "mimetype": "text/x-python",
   "name": "python",
   "nbconvert_exporter": "python",
   "pygments_lexer": "ipython3",
   "version": "3.7.6"
  }
 },
 "nbformat": 4,
 "nbformat_minor": 4
}
